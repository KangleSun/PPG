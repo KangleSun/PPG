{
 "cells": [
  {
   "cell_type": "code",
   "execution_count": 1,
   "metadata": {},
   "outputs": [],
   "source": [
    "import numpy as np\n",
    "import pandas as pd\n",
    "import pickle\n",
    "path_1 = 'H:/MSC Data Science/Dissertation/data/PPG_FieldStudy/S1/S1.pkl'"
   ]
  },
  {
   "cell_type": "markdown",
   "metadata": {},
   "source": [
    "S1 = data.loc[data['Subject'] == 'S1']\n",
    "S1_X = S1.iloc[:, 1:34]\n",
    "S1_y = S1.iloc[:, 0]\n",
    "S2 = data.loc[data['Subject'] == 'S2']\n",
    "S2_X = S1.iloc[:, 1:34]\n",
    "S2_y = S1.iloc[:, 0]\n",
    "S3 = data.loc[data['Subject'] == 'S3']\n",
    "S3_X = S1.iloc[:, 1:34]\n",
    "S3_y = S1.iloc[:, 0]\n",
    "S4 = data.loc[data['Subject'] == 'S4']\n",
    "S4_X = S1.iloc[:, 1:34]\n",
    "S4_y = S1.iloc[:, 0]\n",
    "S5 = data.loc[data['Subject'] == 'S5']\n",
    "S5_X = S1.iloc[:, 1:34]\n",
    "S5_y = S1.iloc[:, 0]\n",
    "S6 = data.loc[data['Subject'] == 'S6']\n",
    "S6_X = S1.iloc[:, 1:34]\n",
    "S6_y = S1.iloc[:, 0]\n",
    "S7 = data.loc[data['Subject'] == 'S7']\n",
    "S7_X = S1.iloc[:, 1:34]\n",
    "S7_y = S1.iloc[:, 0]\n",
    "S8 = data.loc[data['Subject'] == 'S8']\n",
    "S8_X = S1.iloc[:, 1:34]\n",
    "S8_y = S1.iloc[:, 0]\n",
    "S9 = data.loc[data['Subject'] == 'S9']\n",
    "S9_X = S1.iloc[:, 1:34]\n",
    "S9_y = S1.iloc[:, 0]\n",
    "S10 = data.loc[data['Subject'] == 'S10']\n",
    "S10_X = S1.iloc[:, 1:34]\n",
    "S10_y = S1.iloc[:, 0]\n",
    "S11 = data.loc[data['Subject'] == 'S11']\n",
    "S11_X = S1.iloc[:, 1:34]\n",
    "S11_y = S1.iloc[:, 0]\n",
    "S12 = data.loc[data['Subject'] == 'S12']\n",
    "S12_X = S1.iloc[:, 1:34]\n",
    "S12_y = S1.iloc[:, 0]\n",
    "S13 = data.loc[data['Subject'] == 'S13']\n",
    "S13_X = S1.iloc[:, 1:34]\n",
    "S13_y = S1.iloc[:, 0]\n",
    "S14 = data.loc[data['Subject'] == 'S14']\n",
    "S14_X = S1.iloc[:, 1:34]\n",
    "S14_y = S1.iloc[:, 0]\n",
    "S15 = data.loc[data['Subject'] == 'S15']\n",
    "S15_X = S1.iloc[:, 1:34]\n",
    "S15_y = S1.iloc[:, 0]"
   ]
  },
  {
   "cell_type": "markdown",
   "metadata": {},
   "source": [
    "S1 = data.loc[data['Subject'] == 'S1']\n",
    "S1_X = S1.iloc[:, 1:34]\n",
    "S1_y = S1.iloc[:, 0]\n",
    "S2 = data.loc[data['Subject'] == 'S2']\n",
    "S2_X = S1.iloc[:, 1:34]\n",
    "S2_y = S1.iloc[:, 0]\n",
    "S3 = data.loc[data['Subject'] == 'S3']\n",
    "S3_X = S1.iloc[:, 1:34]\n",
    "S3_y = S1.iloc[:, 0]\n",
    "S4 = data.loc[data['Subject'] == 'S4']\n",
    "S4_X = S1.iloc[:, 1:34]\n",
    "S4_y = S1.iloc[:, 0]\n",
    "S5 = data.loc[data['Subject'] == 'S5']\n",
    "S5_X = S1.iloc[:, 1:34]\n",
    "S5_y = S1.iloc[:, 0]\n",
    "S6 = data.loc[data['Subject'] == 'S6']\n",
    "S6_X = S1.iloc[:, 1:34]\n",
    "S6_y = S1.iloc[:, 0]\n",
    "S7 = data.loc[data['Subject'] == 'S7']\n",
    "S7_X = S1.iloc[:, 1:34]\n",
    "S7_y = S1.iloc[:, 0]\n",
    "S8 = data.loc[data['Subject'] == 'S8']\n",
    "S8_X = S1.iloc[:, 1:34]\n",
    "S8_y = S1.iloc[:, 0]\n",
    "S9 = data.loc[data['Subject'] == 'S9']\n",
    "S9_X = S1.iloc[:, 1:34]\n",
    "S9_y = S1.iloc[:, 0]\n",
    "S10 = data.loc[data['Subject'] == 'S10']\n",
    "S10_X = S1.iloc[:, 1:34]\n",
    "S10_y = S1.iloc[:, 0]\n",
    "S11 = data.loc[data['Subject'] == 'S11']\n",
    "S11_X = S1.iloc[:, 1:34]\n",
    "S11_y = S1.iloc[:, 0]\n",
    "S12 = data.loc[data['Subject'] == 'S12']\n",
    "S12_X = S1.iloc[:, 1:34]\n",
    "S12_y = S1.iloc[:, 0]\n",
    "S13 = data.loc[data['Subject'] == 'S13']\n",
    "S13_X = S1.iloc[:, 1:34]\n",
    "S13_y = S1.iloc[:, 0]\n",
    "S14 = data.loc[data['Subject'] == 'S14']\n",
    "S14_X = S1.iloc[:, 1:34]\n",
    "S14_y = S1.iloc[:, 0]\n",
    "S15 = data.loc[data['Subject'] == 'S15']\n",
    "S15_X = S1.iloc[:, 1:34]\n",
    "S15_y = S1.iloc[:, 0]"
   ]
  },
  {
   "cell_type": "markdown",
   "metadata": {},
   "source": []
  }
 ],
 "metadata": {
  "kernelspec": {
   "display_name": "Python 3.9.6 64-bit",
   "language": "python",
   "name": "python3"
  },
  "language_info": {
   "codemirror_mode": {
    "name": "ipython",
    "version": 3
   },
   "file_extension": ".py",
   "mimetype": "text/x-python",
   "name": "python",
   "nbconvert_exporter": "python",
   "pygments_lexer": "ipython3",
   "version": "3.9.6"
  },
  "orig_nbformat": 4,
  "vscode": {
   "interpreter": {
    "hash": "3a37da4549c61ce7b4c8b152cc7d668818c85e3625463a02de5aa58bec05eb4e"
   }
  }
 },
 "nbformat": 4,
 "nbformat_minor": 2
}
