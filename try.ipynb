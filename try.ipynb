{
 "cells": [
  {
   "cell_type": "code",
   "execution_count": 1,
   "metadata": {},
   "outputs": [],
   "source": [
    "import numpy as np\n",
    "import pandas as pd\n",
    "import pickle\n",
    "path_1 = 'H:/MSC Data Science/Dissertation/data/PPG_FieldStudy/S1/S1.pkl'"
   ]
  },
  {
   "cell_type": "code",
   "execution_count": 2,
   "metadata": {},
   "outputs": [],
   "source": [
    "def load_data(file_path):\n",
    "    S = pickle.load(open(file_path, 'rb'), encoding='latin1')#load pkl file as origin data\n",
    "    return S"
   ]
  },
  {
   "cell_type": "code",
   "execution_count": 3,
   "metadata": {},
   "outputs": [],
   "source": [
    "S = load_data(path_1)"
   ]
  },
  {
   "cell_type": "code",
   "execution_count": 4,
   "metadata": {},
   "outputs": [],
   "source": [
    "signal = pd.DataFrame(S[\"signal\"])\n",
    "chest = signal['chest']\n",
    "wrist = signal['wrist']\n",
    "label = pd.DataFrame(S['label'])"
   ]
  },
  {
   "cell_type": "code",
   "execution_count": 13,
   "metadata": {},
   "outputs": [],
   "source": [
    "def extract_mean(column):\n",
    "    col = np.asarray(column)\n",
    "    a = len(column)   \n",
    "    b = len(label)\n",
    "    c = a//b\n",
    "    d = int(b * c)#the number of saved rows\n",
    "    new_col = col[0:d]\n",
    "    extracted_column = np.mean(new_col.reshape(-1, c), axis=1)\n",
    "    #calculate the mean of per e signals to fit the number of heart rates\n",
    "    return extracted_column"
   ]
  },
  {
   "cell_type": "code",
   "execution_count": 14,
   "metadata": {},
   "outputs": [],
   "source": [
    "ECG = chest['ECG']"
   ]
  },
  {
   "cell_type": "code",
   "execution_count": 15,
   "metadata": {},
   "outputs": [
    {
     "data": {
      "text/plain": [
       "array([[0.01560974],\n",
       "       [0.01812744],\n",
       "       [0.01753235],\n",
       "       ...,\n",
       "       [0.21368408],\n",
       "       [0.21556091],\n",
       "       [0.21702576]])"
      ]
     },
     "execution_count": 15,
     "metadata": {},
     "output_type": "execute_result"
    }
   ],
   "source": [
    "ECG"
   ]
  },
  {
   "cell_type": "code",
   "execution_count": 17,
   "metadata": {},
   "outputs": [
    {
     "data": {
      "text/plain": [
       "4603"
      ]
     },
     "execution_count": 17,
     "metadata": {},
     "output_type": "execute_result"
    }
   ],
   "source": [
    "A = extract_mean(ECG)\n",
    "A\n",
    "len(A)"
   ]
  },
  {
   "cell_type": "code",
   "execution_count": 18,
   "metadata": {},
   "outputs": [],
   "source": [
    "def extract_std(column):\n",
    "    col = np.asarray(column)\n",
    "    a = len(column)   \n",
    "    b = len(label)\n",
    "    c = a//b\n",
    "    d = int(b * c)#the number of saved rows\n",
    "    new_col = col[0:d]\n",
    "    extracted_column = np.std(new_col.reshape(-1, c), axis=1)\n",
    "    #calculate the mean of per e signals to fit the number of heart rates\n",
    "    return extracted_column"
   ]
  },
  {
   "cell_type": "code",
   "execution_count": 21,
   "metadata": {},
   "outputs": [
    {
     "data": {
      "text/plain": [
       "4603"
      ]
     },
     "execution_count": 21,
     "metadata": {},
     "output_type": "execute_result"
    }
   ],
   "source": [
    "B = extract_std(ECG)\n",
    "B\n",
    "len(B)"
   ]
  }
 ],
 "metadata": {
  "kernelspec": {
   "display_name": "Python 3.9.6 64-bit",
   "language": "python",
   "name": "python3"
  },
  "language_info": {
   "codemirror_mode": {
    "name": "ipython",
    "version": 3
   },
   "file_extension": ".py",
   "mimetype": "text/x-python",
   "name": "python",
   "nbconvert_exporter": "python",
   "pygments_lexer": "ipython3",
   "version": "3.9.6"
  },
  "orig_nbformat": 4,
  "vscode": {
   "interpreter": {
    "hash": "3a37da4549c61ce7b4c8b152cc7d668818c85e3625463a02de5aa58bec05eb4e"
   }
  }
 },
 "nbformat": 4,
 "nbformat_minor": 2
}
