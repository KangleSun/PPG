{
 "cells": [
  {
   "cell_type": "code",
   "execution_count": 1,
   "id": "79e91452",
   "metadata": {},
   "outputs": [],
   "source": [
    "import numpy as np\n",
    "import pickle\n",
    "import pandas as pd\n",
    "import matplotlib.pyplot as plt\n",
    "path_1 = 'H:/MSC Data Science/Dissertation/data/PPG_FieldStudy/S1/S1.pkl'\n",
    "path_2 = 'H:/MSC Data Science/Dissertation/data/PPG_FieldStudy/S2/S2.pkl'\n",
    "path_3 = 'H:/MSC Data Science/Dissertation/data/PPG_FieldStudy/S3/S3.pkl'\n",
    "path_4 = 'H:/MSC Data Science/Dissertation/data/PPG_FieldStudy/S4/S4.pkl'\n",
    "path_5 = 'H:/MSC Data Science/Dissertation/data/PPG_FieldStudy/S5/S5.pkl'\n",
    "path_6 = 'H:/MSC Data Science/Dissertation/data/PPG_FieldStudy/S6/S6.pkl'\n",
    "path_7 = 'H:/MSC Data Science/Dissertation/data/PPG_FieldStudy/S7/S7.pkl'\n",
    "path_8 = 'H:/MSC Data Science/Dissertation/data/PPG_FieldStudy/S8/S8.pkl'\n",
    "path_9 = 'H:/MSC Data Science/Dissertation/data/PPG_FieldStudy/S9/S9.pkl'\n",
    "path_10 = 'H:/MSC Data Science/Dissertation/data/PPG_FieldStudy/S10/S10.pkl'\n",
    "path_11 = 'H:/MSC Data Science/Dissertation/data/PPG_FieldStudy/S11/S11.pkl'\n",
    "path_12 = 'H:/MSC Data Science/Dissertation/data/PPG_FieldStudy/S12/S12.pkl'\n",
    "path_13 = 'H:/MSC Data Science/Dissertation/data/PPG_FieldStudy/S13/S13.pkl'\n",
    "path_14 = 'H:/MSC Data Science/Dissertation/data/PPG_FieldStudy/S14/S14.pkl'\n",
    "path_15 = 'H:/MSC Data Science/Dissertation/data/PPG_FieldStudy/S15/S15.pkl'\n"
   ]
  },
  {
   "cell_type": "code",
   "execution_count": 2,
   "id": "da651749",
   "metadata": {},
   "outputs": [],
   "source": [
    "#define a function to read pkl files\n",
    "def read_pkl(filepath):\n",
    "    S = pickle.load(open(filepath, 'rb'), encoding='latin1')#load pkl file as origin data\n",
    "    return S"
   ]
  },
  {
   "cell_type": "code",
   "execution_count": 3,
   "id": "8d5badd3",
   "metadata": {},
   "outputs": [],
   "source": [
    "#load pkl files\n",
    "S1 = read_pkl(path_1)\n",
    "S2 = read_pkl(path_2)\n",
    "S3 = read_pkl(path_3)\n",
    "S4 = read_pkl(path_4)\n",
    "S5 = read_pkl(path_5)\n",
    "S6 = read_pkl(path_6)\n",
    "S7 = read_pkl(path_7)\n",
    "S8 = read_pkl(path_8)\n",
    "S9 = read_pkl(path_9)\n",
    "S10 = read_pkl(path_10)\n",
    "S11 = read_pkl(path_11)\n",
    "S12 = read_pkl(path_12)\n",
    "S13 = read_pkl(path_13)\n",
    "S14 = read_pkl(path_14)\n",
    "S15 = read_pkl(path_15)"
   ]
  },
  {
   "cell_type": "code",
   "execution_count": 4,
   "id": "ea8d7bca",
   "metadata": {},
   "outputs": [
    {
     "data": {
      "text/plain": [
       "{'rpeaks': array([    240,    1174,    2128, ..., 6447292, 6447748, 6448224]),\n",
       " 'signal': {'chest': {'ACC': array([[ 0.85640001, -0.06779999, -0.36559999],\n",
       "          [ 0.8556    , -0.06900001, -0.3646    ],\n",
       "          [ 0.852     , -0.07020003, -0.3642    ],\n",
       "          ...,\n",
       "          [ 0.88759995, -0.1038    , -0.27920002],\n",
       "          [ 0.88619995, -0.10159999, -0.27819997],\n",
       "          [ 0.88680005, -0.10140002, -0.27380002]]),\n",
       "   'ECG': array([[0.01560974],\n",
       "          [0.01812744],\n",
       "          [0.01753235],\n",
       "          ...,\n",
       "          [0.21368408],\n",
       "          [0.21556091],\n",
       "          [0.21702576]]),\n",
       "   'EMG': array([[-1.5],\n",
       "          [-1.5],\n",
       "          [-1.5],\n",
       "          ...,\n",
       "          [-1.5],\n",
       "          [-1.5],\n",
       "          [-1.5]]),\n",
       "   'EDA': array([[0.],\n",
       "          [0.],\n",
       "          [0.],\n",
       "          ...,\n",
       "          [0.],\n",
       "          [0.],\n",
       "          [0.]]),\n",
       "   'Temp': array([[-273.15],\n",
       "          [-273.15],\n",
       "          [-273.15],\n",
       "          ...,\n",
       "          [-273.15],\n",
       "          [-273.15],\n",
       "          [-273.15]], dtype=float32),\n",
       "   'Resp': array([[ 4.4418335 ],\n",
       "          [ 4.45098877],\n",
       "          [ 4.47387695],\n",
       "          ...,\n",
       "          [-3.05023193],\n",
       "          [-3.05328369],\n",
       "          [-3.05633545]])},\n",
       "  'wrist': {'ACC': array([[-0.765625, -0.078125,  0.671875],\n",
       "          [-0.765625, -0.078125,  0.65625 ],\n",
       "          [-0.765625, -0.078125,  0.671875],\n",
       "          ...,\n",
       "          [-0.375   , -0.015625,  0.9375  ],\n",
       "          [-0.390625,  0.      ,  0.9375  ],\n",
       "          [-0.375   ,  0.      ,  0.9375  ]]),\n",
       "   'BVP': array([[  7.28],\n",
       "          [  6.33],\n",
       "          [  5.46],\n",
       "          ...,\n",
       "          [105.02],\n",
       "          [109.44],\n",
       "          [111.06]]),\n",
       "   'EDA': array([[4.722437],\n",
       "          [4.728843],\n",
       "          [4.718594],\n",
       "          ...,\n",
       "          [3.170867],\n",
       "          [3.159336],\n",
       "          [3.151649]]),\n",
       "   'TEMP': array([[32.13],\n",
       "          [32.16],\n",
       "          [32.16],\n",
       "          ...,\n",
       "          [34.37],\n",
       "          [34.37],\n",
       "          [34.37]])}},\n",
       " 'label': array([49.61136908, 50.32399248, 52.70833578, ..., 84.004991  ,\n",
       "        85.79625673, 87.4113988 ]),\n",
       " 'activity': array([[0.],\n",
       "        [0.],\n",
       "        [0.],\n",
       "        ...,\n",
       "        [0.],\n",
       "        [0.],\n",
       "        [0.]]),\n",
       " 'questionnaire': {'WEIGHT': 78.0,\n",
       "  'Gender': ' m',\n",
       "  'AGE': 34,\n",
       "  'HEIGHT': 182.0,\n",
       "  'SKIN': 3,\n",
       "  'SPORT': 6},\n",
       " 'subject': 'S1'}"
      ]
     },
     "execution_count": 4,
     "metadata": {},
     "output_type": "execute_result"
    }
   ],
   "source": [
    "S1 = read_pkl(path_1)\n",
    "S1\n"
   ]
  },
  {
   "cell_type": "code",
   "execution_count": 9,
   "id": "a51dba44",
   "metadata": {},
   "outputs": [
    {
     "name": "stdout",
     "output_type": "stream",
     "text": [
      "dict_keys(['rpeaks', 'signal', 'label', 'activity', 'questionnaire', 'subject'])\n"
     ]
    },
    {
     "data": {
      "text/plain": [
       "6    9420\n",
       "0    9124\n",
       "8    4756\n",
       "5    3556\n",
       "7    3016\n",
       "1    2800\n",
       "4    1648\n",
       "3    1380\n",
       "2    1148\n",
       "Name: Activity, dtype: int64"
      ]
     },
     "execution_count": 9,
     "metadata": {},
     "output_type": "execute_result"
    }
   ],
   "source": [
    "print(S1.keys())\n",
    "activity = pd.DataFrame(S1[\"activity\"]).astype(int)\n",
    "activity.columns = [\"Activity\"]\n",
    "activity[\"Activity\"].value_counts()"
   ]
  },
  {
   "cell_type": "code",
   "execution_count": 5,
   "id": "803d7955",
   "metadata": {},
   "outputs": [],
   "source": [
    "#define a function to record the numbers of columns\n",
    "def cal_length(S):\n",
    "    S_X = S['signal']#extract signal data\n",
    "    S_X_chest = S_X['chest']\n",
    "    S_X_wrist = S_X['wrist']#divide sigbals into chest and wrist\n",
    "    S_y = S['label']#extract heart rates\n",
    "    S_X_chest_ACC = S_X_chest['ACC']\n",
    "    S_X_chest_ECG = S_X_chest['ECG']\n",
    "    S_X_chest_Resp = S_X_chest['Resp']\n",
    "    S_X_wrist_ACC = S_X_wrist['ACC']\n",
    "    S_X_wrist_EDA = S_X_wrist['EDA']\n",
    "    S_X_wrist_BVP = S_X_wrist['BVP']\n",
    "    S_X_wrist_TEMP = S_X_wrist['TEMP'] \n",
    "    length_dic = {'label':len(S_y),\n",
    "                  'chest_ACC': [len(S_X_chest_ACC)],  \n",
    "                  'chest_ECG': [len(S_X_chest_ECG)], \n",
    "                  'chest_Resp': [len(S_X_chest_Resp)],\n",
    "                  'wrist_ACC': [len(S_X_wrist_ACC)], \n",
    "                  'wrist_EDA': [len(S_X_wrist_EDA)],\n",
    "                  'wrist_BVP': [len(S_X_wrist_BVP)],\n",
    "                  'wrist_TEMP': [len(S_X_wrist_TEMP)]}\n",
    "    \n",
    "    cal_result = pd.DataFrame.from_dict(length_dic)\n",
    "    return cal_result\n",
    "    "
   ]
  },
  {
   "cell_type": "markdown",
   "id": "b102de3c",
   "metadata": {},
   "source": [
    "# Display the scales of data of candidates"
   ]
  },
  {
   "cell_type": "code",
   "execution_count": 6,
   "id": "14df5f93",
   "metadata": {},
   "outputs": [
    {
     "name": "stdout",
     "output_type": "stream",
     "text": [
      "     label  chest_ACC  chest_ECG  chest_Resp  wrist_ACC  wrist_EDA  wrist_BVP  \\\n",
      "S1    4603    6448400    6448400     6448400     294784      36848     589568   \n",
      "S2    4099    5743500    5743500     5743500     262560      32820     525120   \n",
      "S3    4367    6118700    6118700     6118700     279712      34964     559424   \n",
      "S4    4572    6405000    6405000     6405000     292800      36600     585600   \n",
      "S5    4649    6513500    6513500     6513500     297760      37220     595520   \n",
      "S6    2622    3675000    3675000     3675000     168000      21000     336000   \n",
      "S7    4668    6540100    6540100     6540100     298976      37372     597952   \n",
      "S8    4037    5656000    5656000     5656000     258560      32320     517120   \n",
      "S9    4277    5992000    5992000     5992000     273920      34240     547840   \n",
      "S10   5321    7453600    7453600     7453600     340736      42592     681472   \n",
      "S11   4521    6333600    6333600     6333600     289536      36192     579072   \n",
      "S12   3954    5539800    5539800     5539800     253248      31656     506496   \n",
      "S13   4565    6395200    6395200     6395200     292352      36544     584704   \n",
      "S14   4476    6270600    6270600     6270600     286656      35832     573312   \n",
      "S15   3966    5557300    5557300     5557300     254048      31756     508096   \n",
      "\n",
      "     wrist_TEMP  \n",
      "S1        36848  \n",
      "S2        32820  \n",
      "S3        34964  \n",
      "S4        36600  \n",
      "S5        37220  \n",
      "S6        21000  \n",
      "S7        37372  \n",
      "S8        32320  \n",
      "S9        34240  \n",
      "S10       42592  \n",
      "S11       36192  \n",
      "S12       31656  \n",
      "S13       36544  \n",
      "S14       35832  \n",
      "S15       31756  \n"
     ]
    }
   ],
   "source": [
    "#group outputs\n",
    "S_all = [S1, S2, S3, S4, S5, S6, S7, S8, S9, S10, S11, S12, S13, S14, S15 ]\n",
    "S1_result = cal_length(S1)\n",
    "S2_result = cal_length(S2)\n",
    "S3_result = cal_length(S3)\n",
    "S4_result = cal_length(S4)\n",
    "S5_result = cal_length(S5)\n",
    "S6_result = cal_length(S6)\n",
    "S7_result = cal_length(S7)\n",
    "S8_result = cal_length(S8)\n",
    "S9_result = cal_length(S9)\n",
    "S10_result = cal_length(S10)\n",
    "S11_result = cal_length(S11)\n",
    "S12_result = cal_length(S12)\n",
    "S13_result = cal_length(S13)\n",
    "S14_result = cal_length(S14)\n",
    "S15_result = cal_length(S15)\n",
    "S_result_all = [S1_result, S2_result, S3_result, S4_result, S5_result, S6_result, S7_result, \n",
    "                S8_result, S9_result, S10_result, S11_result, S12_result, S13_result, S14_result, S15_result ]\n",
    "result = pd.concat(S_result_all)#merge tables directly because all tables have same names of columns\n",
    "result.index = ['S1', 'S2', 'S3', 'S4', 'S5', 'S6', 'S7', 'S8', 'S9', 'S10', 'S11', 'S12', 'S13', 'S14', 'S15']\n",
    "print(result)"
   ]
  },
  {
   "cell_type": "markdown",
   "id": "de155a8f",
   "metadata": {},
   "source": [
    "# Analyzing candidates in case of S1"
   ]
  },
  {
   "cell_type": "code",
   "execution_count": 7,
   "id": "3e905599",
   "metadata": {},
   "outputs": [
    {
     "data": {
      "image/png": "[encoded data removed]",
      "text/plain": [
       "<Figure size 864x288 with 1 Axes>"
      ]
     },
     "metadata": {
      "needs_background": "light"
     },
     "output_type": "display_data"
    }
   ],
   "source": [
    "plt.figure(figsize=(12,4))\n",
    "plt.grid(True)\n",
    "plt.plot(S1['label'])\n",
    "plt.ylabel('Heart rate - bpm', fontsize=12)\n",
    "plt.show()"
   ]
  },
  {
   "cell_type": "code",
   "execution_count": 8,
   "id": "7e717b57",
   "metadata": {},
   "outputs": [
    {
     "ename": "NameError",
     "evalue": "name 'dirpath' is not defined",
     "output_type": "error",
     "traceback": [
      "\u001b[1;31m---------------------------------------------------------------------------\u001b[0m",
      "\u001b[1;31mNameError\u001b[0m                                 Traceback (most recent call last)",
      "\u001b[1;32m~\\AppData\\Local\\Temp/ipykernel_3908/529335619.py\u001b[0m in \u001b[0;36m<module>\u001b[1;34m\u001b[0m\n\u001b[0;32m      5\u001b[0m \u001b[0mi\u001b[0m \u001b[1;33m=\u001b[0m \u001b[1;36m0\u001b[0m\u001b[1;33m\u001b[0m\u001b[1;33m\u001b[0m\u001b[0m\n\u001b[0;32m      6\u001b[0m \u001b[1;32mfor\u001b[0m \u001b[0mfile\u001b[0m \u001b[1;32min\u001b[0m \u001b[0mos\u001b[0m\u001b[1;33m.\u001b[0m\u001b[0mwalk\u001b[0m\u001b[1;33m(\u001b[0m\u001b[0mpath\u001b[0m\u001b[1;33m)\u001b[0m\u001b[1;33m:\u001b[0m\u001b[1;33m\u001b[0m\u001b[1;33m\u001b[0m\u001b[0m\n\u001b[1;32m----> 7\u001b[1;33m     \u001b[0mimage_list\u001b[0m \u001b[1;33m=\u001b[0m \u001b[0mos\u001b[0m\u001b[1;33m.\u001b[0m\u001b[0mlistdir\u001b[0m\u001b[1;33m(\u001b[0m\u001b[0mdirpath\u001b[0m\u001b[1;33m)\u001b[0m\u001b[1;33m\u001b[0m\u001b[1;33m\u001b[0m\u001b[0m\n\u001b[0m\u001b[0;32m      8\u001b[0m     \u001b[1;32mfor\u001b[0m \u001b[0mimg\u001b[0m \u001b[1;32min\u001b[0m \u001b[0mimage_list\u001b[0m\u001b[1;33m:\u001b[0m\u001b[1;33m\u001b[0m\u001b[1;33m\u001b[0m\u001b[0m\n\u001b[0;32m      9\u001b[0m         \u001b[1;32mif\u001b[0m \u001b[0mimg\u001b[0m\u001b[1;33m.\u001b[0m\u001b[0mendswith\u001b[0m\u001b[1;33m(\u001b[0m\u001b[1;34m'.jpg'\u001b[0m\u001b[1;33m)\u001b[0m\u001b[1;33m:\u001b[0m\u001b[1;33m\u001b[0m\u001b[1;33m\u001b[0m\u001b[0m\n",
      "\u001b[1;31mNameError\u001b[0m: name 'dirpath' is not defined"
     ]
    }
   ],
   "source": [
    "import os\n",
    "import shutil\n",
    "path = \"H:/MSC Data Science/Dissertation/data/PPG_FieldStudy\" \n",
    "\n",
    "i = 0\n",
    "for file in os.walk(path):\n",
    "    image_list = os.listdir(dirpath)\n",
    "    for img in image_list:\n",
    "        if img.endswith('.jpg'):\n",
    "            print(i)\n",
    "            shutil.copy(os.path.join(dirpath, img), os.path.join(out_path, str(i).zfill(6) + '.jpg'))\n",
    "            i += 1\n"
   ]
  },
  {
   "cell_type": "code",
   "execution_count": null,
   "id": "49bb1eb0",
   "metadata": {},
   "outputs": [],
   "source": [
    "import os\n",
    "\n",
    "directory = os.path.join(\"H:/MSC Data Science/Dissertation/data/PPG_FieldStudy\",\"path\")\n",
    "for root,dirs,files in os.walk(directory):\n",
    "    for file in files:\n",
    "       if file.endswith(\".csv\"):\n",
    "           f=open(file, 'r')\n",
    "           #  perform calculation\n",
    "           f.close()"
   ]
  }
 ],
 "metadata": {
  "kernelspec": {
   "display_name": "Python 3.9.6 64-bit",
   "language": "python",
   "name": "python3"
  },
  "language_info": {
   "codemirror_mode": {
    "name": "ipython",
    "version": 3
   },
   "file_extension": ".py",
   "mimetype": "text/x-python",
   "name": "python",
   "nbconvert_exporter": "python",
   "pygments_lexer": "ipython3",
   "version": "3.9.6"
  },
  "vscode": {
   "interpreter": {
    "hash": "3a37da4549c61ce7b4c8b152cc7d668818c85e3625463a02de5aa58bec05eb4e"
   }
  }
 },
 "nbformat": 4,
 "nbformat_minor": 5
}
