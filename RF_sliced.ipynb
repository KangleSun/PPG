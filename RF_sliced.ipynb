{
 "cells": [
  {
   "cell_type": "code",
   "execution_count": 1,
   "metadata": {},
   "outputs": [],
   "source": [
    "from sklearn.ensemble import RandomForestRegressor\n",
    "import pandas as pd\n",
    "from sklearn.model_selection import train_test_split\n",
    "from sklearn.metrics import  mean_absolute_error\n",
    "import matplotlib.pyplot as plt"
   ]
  },
  {
   "cell_type": "code",
   "execution_count": 3,
   "metadata": {},
   "outputs": [],
   "source": [
    "data_sliced = pd.read_csv('./data/dataset_sliced.csv')\n",
    "\n"
   ]
  },
  {
   "cell_type": "code",
   "execution_count": 5,
   "metadata": {},
   "outputs": [],
   "source": [
    "X_sliced = data_sliced.iloc[:, 0:17]\n",
    "y_sliced = data_sliced.iloc[:, 18]\n"
   ]
  },
  {
   "cell_type": "code",
   "execution_count": 6,
   "metadata": {},
   "outputs": [
    {
     "name": "stdout",
     "output_type": "stream",
     "text": [
      "(38818, 17) (38818,) (25879, 17) (25879,)\n"
     ]
    }
   ],
   "source": [
    "X_sliced_train, X_sliced_val, y_sliced_train,  y_sliced_val = train_test_split(X_sliced, y_sliced, test_size=0.4, random_state=42)\n",
    "print(X_sliced_train.shape, y_sliced_train.shape, X_sliced_val.shape, y_sliced_val.shape)"
   ]
  },
  {
   "cell_type": "code",
   "execution_count": null,
   "metadata": {},
   "outputs": [],
   "source": [
    "forest_sliced = RandomForestRegressor(criterion='mae', max_depth=15, n_estimators=1000,n_jobs=-1)\n",
    "forest_sliced.fit(X_sliced_train, y_sliced_train)\n",
    "y_sliced_test_pred = forest_sliced.predict(X_sliced_val)\n",
    "mean_absolute_error(y_sliced_val,y_sliced_test_pred)"
   ]
  },
  {
   "cell_type": "code",
   "execution_count": null,
   "metadata": {},
   "outputs": [],
   "source": [
    "S1_sliced = data_sliced.loc[data_sliced['Subject'] == 'S1']\n",
    "S1_sliced_X = S1_sliced.iloc[:, 0:17]\n",
    "S1_sliced_y = S1_sliced.iloc[:, 18]\n",
    "plt.figure(figsize=(16,4))\n",
    "plt.grid(True)\n",
    "plt.plot( forest_sliced.predict(S1_sliced_X), label = 'prediected forest')\n",
    "plt.plot( S1_sliced_y, label = 'Ground truth')\n",
    "plt.legend()\n",
    "plt.ylabel('Heart rate - bpm', fontsize=12)\n",
    "plt.xlabel('Time')\n",
    "plt.show()"
   ]
  },
  {
   "cell_type": "code",
   "execution_count": null,
   "metadata": {},
   "outputs": [],
   "source": [
    "S1_pred_forest_sliced = forest_sliced.predict(S1_sliced_X)\n",
    "mean_absolute_error(S1_pred_forest_sliced, S1_y)"
   ]
  }
 ],
 "metadata": {
  "kernelspec": {
   "display_name": "Python 3.9.6 64-bit",
   "language": "python",
   "name": "python3"
  },
  "language_info": {
   "codemirror_mode": {
    "name": "ipython",
    "version": 3
   },
   "file_extension": ".py",
   "mimetype": "text/x-python",
   "name": "python",
   "nbconvert_exporter": "python",
   "pygments_lexer": "ipython3",
   "version": "3.9.6"
  },
  "orig_nbformat": 4,
  "vscode": {
   "interpreter": {
    "hash": "3a37da4549c61ce7b4c8b152cc7d668818c85e3625463a02de5aa58bec05eb4e"
   }
  }
 },
 "nbformat": 4,
 "nbformat_minor": 2
}
