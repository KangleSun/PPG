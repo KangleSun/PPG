{
 "cells": [
  {
   "cell_type": "code",
   "execution_count": 1,
   "id": "7828118b",
   "metadata": {},
   "outputs": [],
   "source": [
    "import numpy as np\n",
    "import pickle\n",
    "import glob\n",
    "import pandas as pd\n",
    "from sklearn.model_selection import train_test_split\n",
    "import keras\n",
    "from keras.datasets import mnist\n",
    "from keras.models import Sequential\n",
    "from keras.layers import Dense, Dropout, Flatten\n",
    "from keras.layers import Conv2D, MaxPooling2D\n",
    "from keras import backend as K\n",
    "import matplotlib.pyplot as plt\n",
    "import tensorflow as tf\n",
    "\n",
    "\n",
    "path_1 = 'H:/MSC Data Science/Dissertation/data/PPG_FieldStudy/S1/S1.pkl'\n",
    "path_2 = 'H:/MSC Data Science/Dissertation/data/PPG_FieldStudy/S2/S2.pkl'\n",
    "path_3 = 'H:/MSC Data Science/Dissertation/data/PPG_FieldStudy/S3/S3.pkl'\n",
    "path_4 = 'H:/MSC Data Science/Dissertation/data/PPG_FieldStudy/S4/S4.pkl'\n",
    "path_5 = 'H:/MSC Data Science/Dissertation/data/PPG_FieldStudy/S5/S5.pkl'\n",
    "path_6 = 'H:/MSC Data Science/Dissertation/data/PPG_FieldStudy/S6/S6.pkl'\n",
    "path_7 = 'H:/MSC Data Science/Dissertation/data/PPG_FieldStudy/S7/S7.pkl'\n",
    "path_8 = 'H:/MSC Data Science/Dissertation/data/PPG_FieldStudy/S8/S8.pkl'\n",
    "path_9 = 'H:/MSC Data Science/Dissertation/data/PPG_FieldStudy/S9/S9.pkl'\n",
    "path_10 = 'H:/MSC Data Science/Dissertation/data/PPG_FieldStudy/S10/S10.pkl'\n",
    "path_11 = 'H:/MSC Data Science/Dissertation/data/PPG_FieldStudy/S11/S11.pkl'\n",
    "path_12 = 'H:/MSC Data Science/Dissertation/data/PPG_FieldStudy/S12/S12.pkl'\n",
    "path_13 = 'H:/MSC Data Science/Dissertation/data/PPG_FieldStudy/S13/S13.pkl'\n",
    "path_14 = 'H:/MSC Data Science/Dissertation/data/PPG_FieldStudy/S14/S14.pkl'\n",
    "path_15 = 'H:/MSC Data Science/Dissertation/data/PPG_FieldStudy/S15/S15.pkl'\n"
   ]
  },
  {
   "cell_type": "code",
   "execution_count": 2,
   "id": "8c514f1d",
   "metadata": {},
   "outputs": [
    {
     "data": {
      "text/plain": [
       "{'rpeaks': array([    240,    1174,    2128, ..., 6447292, 6447748, 6448224]),\n",
       " 'signal': {'chest': {'ACC': array([[ 0.85640001, -0.06779999, -0.36559999],\n",
       "          [ 0.8556    , -0.06900001, -0.3646    ],\n",
       "          [ 0.852     , -0.07020003, -0.3642    ],\n",
       "          ...,\n",
       "          [ 0.88759995, -0.1038    , -0.27920002],\n",
       "          [ 0.88619995, -0.10159999, -0.27819997],\n",
       "          [ 0.88680005, -0.10140002, -0.27380002]]),\n",
       "   'ECG': array([[0.01560974],\n",
       "          [0.01812744],\n",
       "          [0.01753235],\n",
       "          ...,\n",
       "          [0.21368408],\n",
       "          [0.21556091],\n",
       "          [0.21702576]]),\n",
       "   'EMG': array([[-1.5],\n",
       "          [-1.5],\n",
       "          [-1.5],\n",
       "          ...,\n",
       "          [-1.5],\n",
       "          [-1.5],\n",
       "          [-1.5]]),\n",
       "   'EDA': array([[0.],\n",
       "          [0.],\n",
       "          [0.],\n",
       "          ...,\n",
       "          [0.],\n",
       "          [0.],\n",
       "          [0.]]),\n",
       "   'Temp': array([[-273.15],\n",
       "          [-273.15],\n",
       "          [-273.15],\n",
       "          ...,\n",
       "          [-273.15],\n",
       "          [-273.15],\n",
       "          [-273.15]], dtype=float32),\n",
       "   'Resp': array([[ 4.4418335 ],\n",
       "          [ 4.45098877],\n",
       "          [ 4.47387695],\n",
       "          ...,\n",
       "          [-3.05023193],\n",
       "          [-3.05328369],\n",
       "          [-3.05633545]])},\n",
       "  'wrist': {'ACC': array([[-0.765625, -0.078125,  0.671875],\n",
       "          [-0.765625, -0.078125,  0.65625 ],\n",
       "          [-0.765625, -0.078125,  0.671875],\n",
       "          ...,\n",
       "          [-0.375   , -0.015625,  0.9375  ],\n",
       "          [-0.390625,  0.      ,  0.9375  ],\n",
       "          [-0.375   ,  0.      ,  0.9375  ]]),\n",
       "   'BVP': array([[  7.28],\n",
       "          [  6.33],\n",
       "          [  5.46],\n",
       "          ...,\n",
       "          [105.02],\n",
       "          [109.44],\n",
       "          [111.06]]),\n",
       "   'EDA': array([[4.722437],\n",
       "          [4.728843],\n",
       "          [4.718594],\n",
       "          ...,\n",
       "          [3.170867],\n",
       "          [3.159336],\n",
       "          [3.151649]]),\n",
       "   'TEMP': array([[32.13],\n",
       "          [32.16],\n",
       "          [32.16],\n",
       "          ...,\n",
       "          [34.37],\n",
       "          [34.37],\n",
       "          [34.37]])}},\n",
       " 'label': array([49.61136908, 50.32399248, 52.70833578, ..., 84.004991  ,\n",
       "        85.79625673, 87.4113988 ]),\n",
       " 'activity': array([[0.],\n",
       "        [0.],\n",
       "        [0.],\n",
       "        ...,\n",
       "        [0.],\n",
       "        [0.],\n",
       "        [0.]]),\n",
       " 'questionnaire': {'WEIGHT': 78.0,\n",
       "  'Gender': ' m',\n",
       "  'AGE': 34,\n",
       "  'HEIGHT': 182.0,\n",
       "  'SKIN': 3,\n",
       "  'SPORT': 6},\n",
       " 'subject': 'S1'}"
      ]
     },
     "execution_count": 2,
     "metadata": {},
     "output_type": "execute_result"
    }
   ],
   "source": [
    "def load_data(file_path):\n",
    "    S = pickle.load(open(file_path, 'rb'), encoding='latin1')#load pkl file as origin data\n",
    "    return S\n",
    "S1 = load_data(path_1)\n",
    "S1"
   ]
  },
  {
   "cell_type": "code",
   "execution_count": 3,
   "id": "4ca03784",
   "metadata": {},
   "outputs": [
    {
     "data": {
      "text/plain": [
       "(4603, 1)"
      ]
     },
     "execution_count": 3,
     "metadata": {},
     "output_type": "execute_result"
    }
   ],
   "source": [
    "S1['activity'].shape\n",
    "label = pd.DataFrame(S1[\"label\"])\n",
    "label.shape"
   ]
  },
  {
   "cell_type": "code",
   "execution_count": 8,
   "id": "fee5ab8d",
   "metadata": {},
   "outputs": [],
   "source": [
    "activity = pd.DataFrame(S1[\"activity\"]).astype(int)\n",
    "activity.columns = [\"Activity\"]"
   ]
  },
  {
   "cell_type": "code",
   "execution_count": 22,
   "id": "a9b93699",
   "metadata": {},
   "outputs": [
    {
     "data": {
      "text/html": [
       "<div>\n",
       "<style scoped>\n",
       "    .dataframe tbody tr th:only-of-type {\n",
       "        vertical-align: middle;\n",
       "    }\n",
       "\n",
       "    .dataframe tbody tr th {\n",
       "        vertical-align: top;\n",
       "    }\n",
       "\n",
       "    .dataframe thead th {\n",
       "        text-align: right;\n",
       "    }\n",
       "</style>\n",
       "<table border=\"1\" class=\"dataframe\">\n",
       "  <thead>\n",
       "    <tr style=\"text-align: right;\">\n",
       "      <th></th>\n",
       "      <th>Label</th>\n",
       "    </tr>\n",
       "  </thead>\n",
       "  <tbody>\n",
       "    <tr>\n",
       "      <th>0</th>\n",
       "      <td>49.611369</td>\n",
       "    </tr>\n",
       "    <tr>\n",
       "      <th>1</th>\n",
       "      <td>49.611369</td>\n",
       "    </tr>\n",
       "    <tr>\n",
       "      <th>2</th>\n",
       "      <td>49.611369</td>\n",
       "    </tr>\n",
       "    <tr>\n",
       "      <th>3</th>\n",
       "      <td>49.611369</td>\n",
       "    </tr>\n",
       "    <tr>\n",
       "      <th>4</th>\n",
       "      <td>49.611369</td>\n",
       "    </tr>\n",
       "    <tr>\n",
       "      <th>...</th>\n",
       "      <td>...</td>\n",
       "    </tr>\n",
       "    <tr>\n",
       "      <th>36843</th>\n",
       "      <td>74.838901</td>\n",
       "    </tr>\n",
       "    <tr>\n",
       "      <th>36844</th>\n",
       "      <td>74.838901</td>\n",
       "    </tr>\n",
       "    <tr>\n",
       "      <th>36845</th>\n",
       "      <td>74.838901</td>\n",
       "    </tr>\n",
       "    <tr>\n",
       "      <th>36846</th>\n",
       "      <td>74.838901</td>\n",
       "    </tr>\n",
       "    <tr>\n",
       "      <th>36847</th>\n",
       "      <td>74.838901</td>\n",
       "    </tr>\n",
       "  </tbody>\n",
       "</table>\n",
       "<p>36848 rows × 1 columns</p>\n",
       "</div>"
      ],
      "text/plain": [
       "           Label\n",
       "0      49.611369\n",
       "1      49.611369\n",
       "2      49.611369\n",
       "3      49.611369\n",
       "4      49.611369\n",
       "...          ...\n",
       "36843  74.838901\n",
       "36844  74.838901\n",
       "36845  74.838901\n",
       "36846  74.838901\n",
       "36847  74.838901\n",
       "\n",
       "[36848 rows x 1 columns]"
      ]
     },
     "execution_count": 22,
     "metadata": {},
     "output_type": "execute_result"
    }
   ],
   "source": [
    "label = pd.DataFrame(S1[\"label\"])\n",
    "label = pd.DataFrame(np.repeat(label.values,8,axis=0))\n",
    "label.columns = [\"Label\"]\n",
    "if(np.size(label, axis = 0) < np.size(activity, axis = 0)):\n",
    "    mean = label.mean()\n",
    "    while(np.size(label, axis = 0) < np.size(activity, axis = 0)):\n",
    "        label = label.append(mean, ignore_index=True)\n",
    "label"
   ]
  },
  {
   "cell_type": "code",
   "execution_count": 27,
   "id": "5aa035aa",
   "metadata": {},
   "outputs": [],
   "source": [
    "signal = S1['signal']\n",
    "chest = signal['chest']\n",
    "wrist = signal['wrist']\n",
    "S_X_wrist_TEMP = wrist['TEMP']\n",
    "base_len = len(S_X_wrist_TEMP)"
   ]
  },
  {
   "cell_type": "code",
   "execution_count": 28,
   "id": "92ed017a",
   "metadata": {},
   "outputs": [],
   "source": [
    "def data_slice(column):\n",
    "        a = len(column)\n",
    "        b = int(a/base_len)\n",
    "        column = np.mean(column.reshape(-1, b), axis=1)\n",
    "        return column"
   ]
  },
  {
   "cell_type": "code",
   "execution_count": 29,
   "id": "f903f7c7",
   "metadata": {},
   "outputs": [],
   "source": [
    "eee = data_slice(chest['ECG'])"
   ]
  },
  {
   "cell_type": "code",
   "execution_count": 31,
   "id": "0ff85848",
   "metadata": {},
   "outputs": [
    {
     "data": {
      "text/plain": [
       "array([0.03565011, 0.10314514, 0.09910113, ..., 0.03252293, 0.00495405,\n",
       "       0.02001055])"
      ]
     },
     "execution_count": 31,
     "metadata": {},
     "output_type": "execute_result"
    }
   ],
   "source": [
    "eee"
   ]
  },
  {
   "cell_type": "code",
   "execution_count": 36,
   "id": "0b7ade19",
   "metadata": {},
   "outputs": [],
   "source": [
    "def load_data(file_path):\n",
    "    S = pickle.load(open(file_path, 'rb'), encoding='latin1')#load pkl file as origin data\n",
    "    S_activity = pd.DataFrame(S[\"activity\"]).astype(int)\n",
    "    S_X = S['signal']#extract signal data\n",
    "    S_X_chest = S_X['chest']\n",
    "    S_X_wrist = S_X['wrist']#divide sigbals into chest and wrist\n",
    "    S_y = S['label']#extract heart rates\n",
    "    \n",
    "    S_X_chest_ACC = S_X_chest['ACC']\n",
    "    chest_ACC_x, chest_ACC_y, chest_ACC_z = zip(*S_X_chest_ACC)#chest_ACC is a 3 dimension array，here divide it into 3 indiviuals \n",
    "    S_X_chest_ECG = S_X_chest['ECG']\n",
    "    S_X_chest_Resp = S_X_chest['Resp']\n",
    "    \n",
    "    S_X_wrist_ACC = S_X_wrist['ACC']\n",
    "    wrist_ACC_x, wrist_ACC_y, wrist_ACC_z = zip(*S_X_wrist_ACC)\n",
    "    S_X_wrist_EDA = S_X_wrist['EDA']\n",
    "    S_X_wrist_BVP = S_X_wrist['BVP']\n",
    "    S_X_wrist_TEMP = S_X_wrist['TEMP']\n",
    "    \n",
    "    base_len = len(S_X_wrist_TEMP)\n",
    "    \n",
    "    def data_slice(column):\n",
    "        a = len(column)\n",
    "        b = int(a/base_len)\n",
    "        column = np.asarray(column)\n",
    "        new_column = np.mean(column.reshape(-1, b), axis=1)\n",
    "        return new_column\n",
    "    chest_ACC_x = data_slice(chest_ACC_x)\n",
    "    chest_ACC_y = data_slice(chest_ACC_y)\n",
    "    chest_ACC_z = data_slice(chest_ACC_z)\n",
    "    chest_ECG = data_slice(S_X_chest_ECG)\n",
    "    chest_Resp = data_slice(S_X_chest_Resp)\n",
    "    wrist_ACC_x = data_slice(wrist_ACC_x)\n",
    "    wrist_ACC_y = data_slice(wrist_ACC_y)\n",
    "    wrist_ACC_z = data_slice(wrist_ACC_z)\n",
    "    wrist_EDA = data_slice(S_X_wrist_EDA)\n",
    "    wrist_BVP = data_slice(S_X_wrist_BVP)\n",
    "    wrist_TEMP = data_slice(S_X_wrist_TEMP)\n",
    "    \n",
    "    S_label = pd.DataFrame(S['label'])#extract heart rates    \n",
    "    S_label = pd.DataFrame(np.repeat(S_label.values,8,axis=0))#expand the length of label to be same as signal, multiply by 8 because sample rate is 8 seconds\n",
    "    S_label.columns = [\"Label\"]\n",
    "    if(np.size(S_label, axis = 0) < np.size(S_activity, axis = 0)):\n",
    "        mean = S_label.mean()\n",
    "        while(np.size(S_label, axis = 0) < np.size(S_activity, axis = 0)):\n",
    "            S_label = S_label.append(mean, ignore_index=True)\n",
    "    \n",
    "    dataset = pd.DataFrame({'label':S_label,\n",
    "                            'chest_ACC_x': chest_ACC_x, \n",
    "                            'chest_ACC_y': chest_ACC_y, \n",
    "                            'chest_ACC_z': chest_ACC_z, \n",
    "                            'chest_ECG': chest_ECG, \n",
    "                            'chest_Resp': chest_Resp,\n",
    "                            'wrist_ACC_x': wrist_ACC_x, \n",
    "                            'wrist_ACC_y': wrist_ACC_y, \n",
    "                            'wrist_ACC_z': wrist_ACC_z, \n",
    "                            'wrist_EDA': wrist_EDA,\n",
    "                            'wrist_BVP': wrist_BVP,\n",
    "                            'wrist_TEMP': wrist_TEMP,\n",
    "                           }, \n",
    "                            columns=['label', 'chest_ACC_x', 'chest_ACC_y', 'chest_ACC_z', 'chest_ECG', 'chest_Resp', \n",
    "                                     'wrist_ACC_x', 'wrist_ACC_y', 'wrist_ACC_z', 'wrist_EDA', 'wrist_BVP', 'wrist_TEMP'])\n",
    "    \n",
    "    return dataset\n",
    "    \n",
    "    "
   ]
  },
  {
   "cell_type": "code",
   "execution_count": 37,
   "id": "96621218",
   "metadata": {},
   "outputs": [
    {
     "ename": "ValueError",
     "evalue": "Data must be 1-dimensional",
     "output_type": "error",
     "traceback": [
      "\u001b[1;31m---------------------------------------------------------------------------\u001b[0m",
      "\u001b[1;31mValueError\u001b[0m                                Traceback (most recent call last)",
      "\u001b[1;32m~\\AppData\\Local\\Temp/ipykernel_8080/963885178.py\u001b[0m in \u001b[0;36m<module>\u001b[1;34m\u001b[0m\n\u001b[1;32m----> 1\u001b[1;33m \u001b[0ms\u001b[0m \u001b[1;33m=\u001b[0m \u001b[0mload_data\u001b[0m\u001b[1;33m(\u001b[0m\u001b[0mpath_1\u001b[0m\u001b[1;33m)\u001b[0m\u001b[1;33m\u001b[0m\u001b[1;33m\u001b[0m\u001b[0m\n\u001b[0m",
      "\u001b[1;32m~\\AppData\\Local\\Temp/ipykernel_8080/2761494519.py\u001b[0m in \u001b[0;36mload_data\u001b[1;34m(file_path)\u001b[0m\n\u001b[0;32m     46\u001b[0m             \u001b[0mS_label\u001b[0m \u001b[1;33m=\u001b[0m \u001b[0mS_label\u001b[0m\u001b[1;33m.\u001b[0m\u001b[0mappend\u001b[0m\u001b[1;33m(\u001b[0m\u001b[0mmean\u001b[0m\u001b[1;33m,\u001b[0m \u001b[0mignore_index\u001b[0m\u001b[1;33m=\u001b[0m\u001b[1;32mTrue\u001b[0m\u001b[1;33m)\u001b[0m\u001b[1;33m\u001b[0m\u001b[1;33m\u001b[0m\u001b[0m\n\u001b[0;32m     47\u001b[0m \u001b[1;33m\u001b[0m\u001b[0m\n\u001b[1;32m---> 48\u001b[1;33m     dataset = pd.DataFrame({'label':S_label,\n\u001b[0m\u001b[0;32m     49\u001b[0m                             \u001b[1;34m'chest_ACC_x'\u001b[0m\u001b[1;33m:\u001b[0m \u001b[0mchest_ACC_x\u001b[0m\u001b[1;33m,\u001b[0m\u001b[1;33m\u001b[0m\u001b[1;33m\u001b[0m\u001b[0m\n\u001b[0;32m     50\u001b[0m                             \u001b[1;34m'chest_ACC_y'\u001b[0m\u001b[1;33m:\u001b[0m \u001b[0mchest_ACC_y\u001b[0m\u001b[1;33m,\u001b[0m\u001b[1;33m\u001b[0m\u001b[1;33m\u001b[0m\u001b[0m\n",
      "\u001b[1;32mc:\\users\\conler\\appdata\\local\\programs\\python\\python39\\lib\\site-packages\\pandas\\core\\frame.py\u001b[0m in \u001b[0;36m__init__\u001b[1;34m(self, data, index, columns, dtype, copy)\u001b[0m\n\u001b[0;32m    612\u001b[0m         \u001b[1;32melif\u001b[0m \u001b[0misinstance\u001b[0m\u001b[1;33m(\u001b[0m\u001b[0mdata\u001b[0m\u001b[1;33m,\u001b[0m \u001b[0mdict\u001b[0m\u001b[1;33m)\u001b[0m\u001b[1;33m:\u001b[0m\u001b[1;33m\u001b[0m\u001b[1;33m\u001b[0m\u001b[0m\n\u001b[0;32m    613\u001b[0m             \u001b[1;31m# GH#38939 de facto copy defaults to False only in non-dict cases\u001b[0m\u001b[1;33m\u001b[0m\u001b[1;33m\u001b[0m\u001b[1;33m\u001b[0m\u001b[0m\n\u001b[1;32m--> 614\u001b[1;33m             \u001b[0mmgr\u001b[0m \u001b[1;33m=\u001b[0m \u001b[0mdict_to_mgr\u001b[0m\u001b[1;33m(\u001b[0m\u001b[0mdata\u001b[0m\u001b[1;33m,\u001b[0m \u001b[0mindex\u001b[0m\u001b[1;33m,\u001b[0m \u001b[0mcolumns\u001b[0m\u001b[1;33m,\u001b[0m \u001b[0mdtype\u001b[0m\u001b[1;33m=\u001b[0m\u001b[0mdtype\u001b[0m\u001b[1;33m,\u001b[0m \u001b[0mcopy\u001b[0m\u001b[1;33m=\u001b[0m\u001b[0mcopy\u001b[0m\u001b[1;33m,\u001b[0m \u001b[0mtyp\u001b[0m\u001b[1;33m=\u001b[0m\u001b[0mmanager\u001b[0m\u001b[1;33m)\u001b[0m\u001b[1;33m\u001b[0m\u001b[1;33m\u001b[0m\u001b[0m\n\u001b[0m\u001b[0;32m    615\u001b[0m         \u001b[1;32melif\u001b[0m \u001b[0misinstance\u001b[0m\u001b[1;33m(\u001b[0m\u001b[0mdata\u001b[0m\u001b[1;33m,\u001b[0m \u001b[0mma\u001b[0m\u001b[1;33m.\u001b[0m\u001b[0mMaskedArray\u001b[0m\u001b[1;33m)\u001b[0m\u001b[1;33m:\u001b[0m\u001b[1;33m\u001b[0m\u001b[1;33m\u001b[0m\u001b[0m\n\u001b[0;32m    616\u001b[0m             \u001b[1;32mimport\u001b[0m \u001b[0mnumpy\u001b[0m\u001b[1;33m.\u001b[0m\u001b[0mma\u001b[0m\u001b[1;33m.\u001b[0m\u001b[0mmrecords\u001b[0m \u001b[1;32mas\u001b[0m \u001b[0mmrecords\u001b[0m\u001b[1;33m\u001b[0m\u001b[1;33m\u001b[0m\u001b[0m\n",
      "\u001b[1;32mc:\\users\\conler\\appdata\\local\\programs\\python\\python39\\lib\\site-packages\\pandas\\core\\internals\\construction.py\u001b[0m in \u001b[0;36mdict_to_mgr\u001b[1;34m(data, index, columns, dtype, typ, copy)\u001b[0m\n\u001b[0;32m    462\u001b[0m         \u001b[1;31m# TODO: can we get rid of the dt64tz special case above?\u001b[0m\u001b[1;33m\u001b[0m\u001b[1;33m\u001b[0m\u001b[1;33m\u001b[0m\u001b[0m\n\u001b[0;32m    463\u001b[0m \u001b[1;33m\u001b[0m\u001b[0m\n\u001b[1;32m--> 464\u001b[1;33m     return arrays_to_mgr(\n\u001b[0m\u001b[0;32m    465\u001b[0m         \u001b[0marrays\u001b[0m\u001b[1;33m,\u001b[0m \u001b[0mdata_names\u001b[0m\u001b[1;33m,\u001b[0m \u001b[0mindex\u001b[0m\u001b[1;33m,\u001b[0m \u001b[0mcolumns\u001b[0m\u001b[1;33m,\u001b[0m \u001b[0mdtype\u001b[0m\u001b[1;33m=\u001b[0m\u001b[0mdtype\u001b[0m\u001b[1;33m,\u001b[0m \u001b[0mtyp\u001b[0m\u001b[1;33m=\u001b[0m\u001b[0mtyp\u001b[0m\u001b[1;33m,\u001b[0m \u001b[0mconsolidate\u001b[0m\u001b[1;33m=\u001b[0m\u001b[0mcopy\u001b[0m\u001b[1;33m\u001b[0m\u001b[1;33m\u001b[0m\u001b[0m\n\u001b[0;32m    466\u001b[0m     )\n",
      "\u001b[1;32mc:\\users\\conler\\appdata\\local\\programs\\python\\python39\\lib\\site-packages\\pandas\\core\\internals\\construction.py\u001b[0m in \u001b[0;36marrays_to_mgr\u001b[1;34m(arrays, arr_names, index, columns, dtype, verify_integrity, typ, consolidate)\u001b[0m\n\u001b[0;32m    122\u001b[0m \u001b[1;33m\u001b[0m\u001b[0m\n\u001b[0;32m    123\u001b[0m         \u001b[1;31m# don't force copy because getting jammed in an ndarray anyway\u001b[0m\u001b[1;33m\u001b[0m\u001b[1;33m\u001b[0m\u001b[1;33m\u001b[0m\u001b[0m\n\u001b[1;32m--> 124\u001b[1;33m         \u001b[0marrays\u001b[0m \u001b[1;33m=\u001b[0m \u001b[0m_homogenize\u001b[0m\u001b[1;33m(\u001b[0m\u001b[0marrays\u001b[0m\u001b[1;33m,\u001b[0m \u001b[0mindex\u001b[0m\u001b[1;33m,\u001b[0m \u001b[0mdtype\u001b[0m\u001b[1;33m)\u001b[0m\u001b[1;33m\u001b[0m\u001b[1;33m\u001b[0m\u001b[0m\n\u001b[0m\u001b[0;32m    125\u001b[0m \u001b[1;33m\u001b[0m\u001b[0m\n\u001b[0;32m    126\u001b[0m     \u001b[1;32melse\u001b[0m\u001b[1;33m:\u001b[0m\u001b[1;33m\u001b[0m\u001b[1;33m\u001b[0m\u001b[0m\n",
      "\u001b[1;32mc:\\users\\conler\\appdata\\local\\programs\\python\\python39\\lib\\site-packages\\pandas\\core\\internals\\construction.py\u001b[0m in \u001b[0;36m_homogenize\u001b[1;34m(data, index, dtype)\u001b[0m\n\u001b[0;32m    587\u001b[0m                 \u001b[0mval\u001b[0m \u001b[1;33m=\u001b[0m \u001b[0mlib\u001b[0m\u001b[1;33m.\u001b[0m\u001b[0mfast_multiget\u001b[0m\u001b[1;33m(\u001b[0m\u001b[0mval\u001b[0m\u001b[1;33m,\u001b[0m \u001b[0moindex\u001b[0m\u001b[1;33m.\u001b[0m\u001b[0m_values\u001b[0m\u001b[1;33m,\u001b[0m \u001b[0mdefault\u001b[0m\u001b[1;33m=\u001b[0m\u001b[0mnp\u001b[0m\u001b[1;33m.\u001b[0m\u001b[0mnan\u001b[0m\u001b[1;33m)\u001b[0m\u001b[1;33m\u001b[0m\u001b[1;33m\u001b[0m\u001b[0m\n\u001b[0;32m    588\u001b[0m \u001b[1;33m\u001b[0m\u001b[0m\n\u001b[1;32m--> 589\u001b[1;33m             val = sanitize_array(\n\u001b[0m\u001b[0;32m    590\u001b[0m                 \u001b[0mval\u001b[0m\u001b[1;33m,\u001b[0m \u001b[0mindex\u001b[0m\u001b[1;33m,\u001b[0m \u001b[0mdtype\u001b[0m\u001b[1;33m=\u001b[0m\u001b[0mdtype\u001b[0m\u001b[1;33m,\u001b[0m \u001b[0mcopy\u001b[0m\u001b[1;33m=\u001b[0m\u001b[1;32mFalse\u001b[0m\u001b[1;33m,\u001b[0m \u001b[0mraise_cast_failure\u001b[0m\u001b[1;33m=\u001b[0m\u001b[1;32mFalse\u001b[0m\u001b[1;33m\u001b[0m\u001b[1;33m\u001b[0m\u001b[0m\n\u001b[0;32m    591\u001b[0m             )\n",
      "\u001b[1;32mc:\\users\\conler\\appdata\\local\\programs\\python\\python39\\lib\\site-packages\\pandas\\core\\construction.py\u001b[0m in \u001b[0;36msanitize_array\u001b[1;34m(data, index, dtype, copy, raise_cast_failure, allow_2d)\u001b[0m\n\u001b[0;32m    574\u001b[0m                 \u001b[0msubarr\u001b[0m \u001b[1;33m=\u001b[0m \u001b[0mmaybe_infer_to_datetimelike\u001b[0m\u001b[1;33m(\u001b[0m\u001b[0msubarr\u001b[0m\u001b[1;33m)\u001b[0m\u001b[1;33m\u001b[0m\u001b[1;33m\u001b[0m\u001b[0m\n\u001b[0;32m    575\u001b[0m \u001b[1;33m\u001b[0m\u001b[0m\n\u001b[1;32m--> 576\u001b[1;33m     \u001b[0msubarr\u001b[0m \u001b[1;33m=\u001b[0m \u001b[0m_sanitize_ndim\u001b[0m\u001b[1;33m(\u001b[0m\u001b[0msubarr\u001b[0m\u001b[1;33m,\u001b[0m \u001b[0mdata\u001b[0m\u001b[1;33m,\u001b[0m \u001b[0mdtype\u001b[0m\u001b[1;33m,\u001b[0m \u001b[0mindex\u001b[0m\u001b[1;33m,\u001b[0m \u001b[0mallow_2d\u001b[0m\u001b[1;33m=\u001b[0m\u001b[0mallow_2d\u001b[0m\u001b[1;33m)\u001b[0m\u001b[1;33m\u001b[0m\u001b[1;33m\u001b[0m\u001b[0m\n\u001b[0m\u001b[0;32m    577\u001b[0m \u001b[1;33m\u001b[0m\u001b[0m\n\u001b[0;32m    578\u001b[0m     \u001b[1;32mif\u001b[0m \u001b[0misinstance\u001b[0m\u001b[1;33m(\u001b[0m\u001b[0msubarr\u001b[0m\u001b[1;33m,\u001b[0m \u001b[0mnp\u001b[0m\u001b[1;33m.\u001b[0m\u001b[0mndarray\u001b[0m\u001b[1;33m)\u001b[0m\u001b[1;33m:\u001b[0m\u001b[1;33m\u001b[0m\u001b[1;33m\u001b[0m\u001b[0m\n",
      "\u001b[1;32mc:\\users\\conler\\appdata\\local\\programs\\python\\python39\\lib\\site-packages\\pandas\\core\\construction.py\u001b[0m in \u001b[0;36m_sanitize_ndim\u001b[1;34m(result, data, dtype, index, allow_2d)\u001b[0m\n\u001b[0;32m    625\u001b[0m             \u001b[1;32mif\u001b[0m \u001b[0mallow_2d\u001b[0m\u001b[1;33m:\u001b[0m\u001b[1;33m\u001b[0m\u001b[1;33m\u001b[0m\u001b[0m\n\u001b[0;32m    626\u001b[0m                 \u001b[1;32mreturn\u001b[0m \u001b[0mresult\u001b[0m\u001b[1;33m\u001b[0m\u001b[1;33m\u001b[0m\u001b[0m\n\u001b[1;32m--> 627\u001b[1;33m             \u001b[1;32mraise\u001b[0m \u001b[0mValueError\u001b[0m\u001b[1;33m(\u001b[0m\u001b[1;34m\"Data must be 1-dimensional\"\u001b[0m\u001b[1;33m)\u001b[0m\u001b[1;33m\u001b[0m\u001b[1;33m\u001b[0m\u001b[0m\n\u001b[0m\u001b[0;32m    628\u001b[0m         \u001b[1;32mif\u001b[0m \u001b[0mis_object_dtype\u001b[0m\u001b[1;33m(\u001b[0m\u001b[0mdtype\u001b[0m\u001b[1;33m)\u001b[0m \u001b[1;32mand\u001b[0m \u001b[0misinstance\u001b[0m\u001b[1;33m(\u001b[0m\u001b[0mdtype\u001b[0m\u001b[1;33m,\u001b[0m \u001b[0mExtensionDtype\u001b[0m\u001b[1;33m)\u001b[0m\u001b[1;33m:\u001b[0m\u001b[1;33m\u001b[0m\u001b[1;33m\u001b[0m\u001b[0m\n\u001b[0;32m    629\u001b[0m             \u001b[1;31m# i.e. PandasDtype(\"O\")\u001b[0m\u001b[1;33m\u001b[0m\u001b[1;33m\u001b[0m\u001b[1;33m\u001b[0m\u001b[0m\n",
      "\u001b[1;31mValueError\u001b[0m: Data must be 1-dimensional"
     ]
    }
   ],
   "source": [
    "s = load_data(path_1)"
   ]
  },
  {
   "cell_type": "code",
   "execution_count": null,
   "id": "12096808",
   "metadata": {},
   "outputs": [],
   "source": [
    "s"
   ]
  },
  {
   "cell_type": "code",
   "execution_count": null,
   "id": "0a1d6214",
   "metadata": {},
   "outputs": [],
   "source": []
  }
 ],
 "metadata": {
  "kernelspec": {
   "display_name": "Python 3 (ipykernel)",
   "language": "python",
   "name": "python3"
  },
  "language_info": {
   "codemirror_mode": {
    "name": "ipython",
    "version": 3
   },
   "file_extension": ".py",
   "mimetype": "text/x-python",
   "name": "python",
   "nbconvert_exporter": "python",
   "pygments_lexer": "ipython3",
   "version": "3.9.6"
  }
 },
 "nbformat": 4,
 "nbformat_minor": 5
}
